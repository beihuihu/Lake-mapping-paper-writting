{
 "cells": [
  {
   "cell_type": "code",
   "execution_count": 1,
   "metadata": {},
   "outputs": [],
   "source": [
    "import os\n",
    "import numpy as np\n",
    "import rasterio\n",
    "from rasterio.enums import Resampling\n",
    "import matplotlib.pyplot as plt\n",
    "from matplotlib.colors import Normalize, LinearSegmentedColormap"
   ]
  },
  {
   "cell_type": "code",
   "execution_count": 2,
   "metadata": {},
   "outputs": [],
   "source": [
    "# input_data_dir=r'D:\\lakemapping\\10_paper_writting\\figure\\sample\\sampleV8_test_region'\n",
    "input_data_dir=r'D:\\lakemapping\\10_paper_writting\\figure\\display_basemap'"
   ]
  },
  {
   "cell_type": "code",
   "execution_count": 6,
   "metadata": {},
   "outputs": [
    {
     "name": "stdout",
     "output_type": "stream",
     "text": [
      "(860, 1710, 4)\n"
     ]
    }
   ],
   "source": [
    "print(colormapped_image.shape)"
   ]
  },
  {
   "cell_type": "code",
   "execution_count": 20,
   "metadata": {},
   "outputs": [
    {
     "name": "stdout",
     "output_type": "stream",
     "text": [
      "ndwi_R6_1.tif\n",
      "<osgeo.gdal.ColorTable; proxy of <Swig Object of type 'GDALColorTableShadow *' at 0x0000026C5F0E8D50> >\n",
      "Colormap已成功应用并保存！\n",
      "ndwi_R6_2.tif\n",
      "<osgeo.gdal.ColorTable; proxy of <Swig Object of type 'GDALColorTableShadow *' at 0x0000026C5F0E8C00> >\n",
      "Colormap已成功应用并保存！\n",
      "ndwi_R6_3.tif\n",
      "<osgeo.gdal.ColorTable; proxy of <Swig Object of type 'GDALColorTableShadow *' at 0x0000026C5F8AFC30> >\n",
      "Colormap已成功应用并保存！\n",
      "ndwi_R6_4.tif\n",
      "<osgeo.gdal.ColorTable; proxy of <Swig Object of type 'GDALColorTableShadow *' at 0x0000026C5F8AF9C0> >\n",
      "Colormap已成功应用并保存！\n",
      "ndwi_R6_5.tif\n",
      "<osgeo.gdal.ColorTable; proxy of <Swig Object of type 'GDALColorTableShadow *' at 0x0000026C5F0E8E70> >\n",
      "Colormap已成功应用并保存！\n",
      "ndwi_R6_6.tif\n",
      "<osgeo.gdal.ColorTable; proxy of <Swig Object of type 'GDALColorTableShadow *' at 0x0000026C5F0E8D80> >\n",
      "Colormap已成功应用并保存！\n"
     ]
    }
   ],
   "source": [
    "from osgeo import gdal\n",
    "import numpy as np\n",
    "import os\n",
    "# 打开原始的tif文件\n",
    "\n",
    "input_folder = input_data_dir+r'\\R6'\n",
    "output_folder=r'D:\\lakemapping\\10_paper_writting\\figure\\display_basemap\\NDWI'#input_data_dir+r'\\NDWI'\n",
    "# 获取文件夹中的所有TIF文件\n",
    "tif_files = [f for f in os.listdir(input_folder) if (f.endswith('.tif') & f.startswith('ndwi'))]\n",
    "\n",
    "# 批量处理每个TIF文件\n",
    "for tif_file in tif_files:\n",
    "    print(tif_file)\n",
    "    input_path = os.path.join(input_folder, tif_file)\n",
    "    output_path = os.path.join(output_folder, tif_file)\n",
    "\n",
    "    dataset=gdal.Open(input_path, gdal.GA_Update)\n",
    "    band = dataset.GetRasterBand(1)\n",
    "\n",
    "    # 创建一个colormap, 这里假设使用红色、白色、蓝色的渐变\n",
    "    colormap = gdal.ColorTable()\n",
    "    print(colormap)\n",
    "    # 设置红色到白色再到蓝色的渐变色带\n",
    "    for i in range(-1000,1000):\n",
    "        if i >=0:\n",
    "            colormap.SetColorEntry(i, (255-int(i*0.255), 255-int(i*0.255), 255))  # 蓝色渐变\n",
    "        else:\n",
    "            colormap.SetColorEntry(i, (255, 255+int(i*0.255), 255+int(i*0.255)))  # 红色渐变\n",
    "\n",
    "    # 创建一个输出文件，用于保存处理后的结果\n",
    "    driver = gdal.GetDriverByName('GTiff')\n",
    "\n",
    "    # 创建一个新的栅格文件，与原始文件相同的尺寸和类型\n",
    "    output_dataset = driver.Create(output_path, dataset.RasterXSize, dataset.RasterYSize, 1, band.DataType)\n",
    "\n",
    "    # 将原始波段数据复制到新的栅格文件中\n",
    "    output_band = output_dataset.GetRasterBand(1)\n",
    "    output_band.WriteArray(band.ReadAsArray())  # 将数据从原始文件读取并写入新的文件\n",
    "\n",
    "    # 设置新的颜色表\n",
    "    output_band.SetColorTable(colormap)\n",
    "\n",
    "    # 设置NoData值（如果需要）\n",
    "    output_band.SetNoDataValue(-9999)\n",
    "\n",
    "    # 关闭文件\n",
    "    output_dataset.FlushCache()  # 保存所有更改\n",
    "    output_dataset = None\n",
    "    dataset = None\n",
    "\n",
    "    print(\"Colormap已成功应用并保存！\")\n",
    "    # 为波段设置颜色表\n",
    "#     band.SetRasterColorTable(colormap)\n",
    "#     # 将带有colormap的tif文件保存\n",
    "#     dataset.FlushCache()  # 强制保存更改\n",
    "#     dataset = None  # 关闭数据集\n"
   ]
  },
  {
   "cell_type": "code",
   "execution_count": 18,
   "metadata": {},
   "outputs": [
    {
     "name": "stdout",
     "output_type": "stream",
     "text": [
      "数据的最小值: -71.0, 最大值: 61.0\n",
      "<osgeo.gdal.ColorTable; proxy of <Swig Object of type 'GDALColorTableShadow *' at 0x0000026C5F7FC630> >\n",
      "Colormap已成功应用并保存！\n"
     ]
    }
   ],
   "source": [
    "from osgeo import gdal\n",
    "import numpy as np\n",
    "import os\n",
    "\n",
    "\n",
    "input_folder = r'D:\\lakemapping\\10_paper_writting\\figure\\sample\\sampleV8_test_region'\n",
    "output_folder = r'D:\\lakemapping\\10_paper_writting\\figure\\sample'\n",
    "\n",
    "\n",
    "# 打开原始栅格数据\n",
    "tif_path = os.path.join(input_folder,\"ndwi_10m_type0_10031.tif\")\n",
    "output_tif_path = os.path.join(output_folder,\"ndwi_10m_type0_10031_new.tif\") # 输出带有colormap的tif文件路径\n",
    "\n",
    "# 打开栅格文件\n",
    "dataset = gdal.Open(tif_path, gdal.GA_Update)\n",
    "\n",
    "# 获取栅格波段（假设只有一个波段）\n",
    "band = dataset.GetRasterBand(1)\n",
    "\n",
    "# 获取最小值和最大值（为了定义颜色映射的范围）\n",
    "min_value = band.GetMinimum()\n",
    "max_value = band.GetMaximum()\n",
    "\n",
    "if min_value is None or max_value is None:\n",
    "    min_value, max_value = band.ComputeRasterMinMax(True)\n",
    "\n",
    "print(f\"数据的最小值: {min_value}, 最大值: {max_value}\")\n",
    "\n",
    "# 创建colormap - RGB颜色映射\n",
    "# 创建一个colormap, 这里假设使用红色、白色、蓝色的渐变\n",
    "colormap = gdal.ColorTable()\n",
    "print(colormap)\n",
    "# 设置红色到白色再到蓝色的渐变色带\n",
    "# for i in range(0,256):\n",
    "#     if i >= 128:\n",
    "#         colormap.SetColorEntry(i, (511-i*2,511-i*2, 255))  # 蓝色渐变\n",
    "#     else:\n",
    "#         colormap.SetColorEntry(i, (255, 2*i+1, 2*i+1))  # 红色渐变\n",
    "\n",
    "for i in range(-100,100):\n",
    "    if i >=0:\n",
    "        colormap.SetColorEntry(i, (255-int(i*2.55), 255-int(i*2.55), 255))  # 蓝色渐变\n",
    "    else:\n",
    "        colormap.SetColorEntry(256+i, (255, 255+int(i*2.55), 255+int(i*2.55)))  # 红色渐变\n",
    "\n",
    "\n",
    "# 创建一个输出文件，用于保存处理后的结果\n",
    "driver = gdal.GetDriverByName('GTiff')\n",
    "\n",
    "# 创建一个新的栅格文件，与原始文件相同的尺寸和类型\n",
    "output_dataset = driver.Create(output_tif_path, dataset.RasterXSize, dataset.RasterYSize, 1, band.DataType)\n",
    "\n",
    "# 将原始波段数据复制到新的栅格文件中\n",
    "output_band = output_dataset.GetRasterBand(1)\n",
    "output_band.WriteArray(band.ReadAsArray())  # 将数据从原始文件读取并写入新的文件\n",
    "\n",
    "# 设置新的颜色表\n",
    "output_band.SetColorTable(colormap)\n",
    "\n",
    "# 设置NoData值（如果需要）\n",
    "output_band.SetNoDataValue(-9999)\n",
    "\n",
    "# 关闭文件\n",
    "output_dataset.FlushCache()  # 保存所有更改\n",
    "output_dataset = None\n",
    "dataset = None\n",
    "\n",
    "print(\"Colormap已成功应用并保存！\")"
   ]
  },
  {
   "cell_type": "code",
   "execution_count": null,
   "metadata": {},
   "outputs": [],
   "source": []
  }
 ],
 "metadata": {
  "kernelspec": {
   "display_name": "tf_gpu_38",
   "language": "python",
   "name": "tf_gpu_38"
  },
  "language_info": {
   "codemirror_mode": {
    "name": "ipython",
    "version": 3
   },
   "file_extension": ".py",
   "mimetype": "text/x-python",
   "name": "python",
   "nbconvert_exporter": "python",
   "pygments_lexer": "ipython3",
   "version": "3.8.18"
  }
 },
 "nbformat": 4,
 "nbformat_minor": 4
}
