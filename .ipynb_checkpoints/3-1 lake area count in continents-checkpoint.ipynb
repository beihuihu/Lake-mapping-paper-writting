{
 "cells": [
  {
   "cell_type": "code",
   "execution_count": null,
   "metadata": {},
   "outputs": [],
   "source": [
    "import pandas as pd\n",
    "import numpy as np\n",
    "import os\n",
    "import geopandas as gpd\n",
    "import fiona\n",
    "import math\n",
    "from matplotlib import colors\n",
    "import matplotlib.ticker as ticker\n",
    "import matplotlib.pyplot as plt\n",
    "import matplotlib.gridspec as gridspec"
   ]
  },
  {
   "cell_type": "code",
   "execution_count": null,
   "metadata": {},
   "outputs": [],
   "source": [
    "version='v16_250104'\n",
    "output_dir = os.path.join(r'J:\\lakemapping\\postprocess',version)\n",
    "auxiliary_dataset_gdb=r'J:\\lakemapping\\auxiliary_dataset.gdb'\n",
    "merge_gdb=os.path.join(output_dir,f'5_polygon_afm_mergeWith_GLAKES_PLD.gdb')\n",
    "output_c_csv_dir=os.path.join(output_dir,f'5_GLAKES_plus_csv')\n",
    "os.makedirs(output_c_csv_dir,exist_ok=True)\n",
    "# eight_continents=['Asia','Siberia','Africa','Europe','Oceania_Anta','North_America','Arctic','South_America']\n",
    "eight_continents=['Asia','Siberia','Africa','Europe','Oceania','North_America','Arctic','South_America']\n",
    "fig_path=r'D:\\lakemapping\\10_paper_writting\\figure\\v5_250213'"
   ]
  },
  {
   "cell_type": "code",
   "execution_count": null,
   "metadata": {},
   "outputs": [],
   "source": [
    "plt.rcParams['axes.unicode_minus']=False#负号\n",
    "plt.rcParams['font.sans-serif']=['Arial']###############\n",
    "plt.rcParams['font.size'] = '7' # 设置字体大小 = '16' # 设置字体大小\n",
    "# plt.rcParams[\"font.weight\"] = \"bold\"\n",
    "# plt.rcParams[\"axes.labelweight\"] = \"bold\"\n",
    "plt.rcParams['xtick.direction'] = 'in'#将x周的刻度线方向设置向内\n",
    "plt.rcParams['ytick.direction'] = 'in'#将y轴的刻度方向设置向内"
   ]
  },
  {
   "cell_type": "code",
   "execution_count": null,
   "metadata": {},
   "outputs": [],
   "source": [
    "layers = fiona.listlayers(merge_gdb)\n",
    "desired_columns = ['lake_area'] \n",
    "print(layers)\n",
    "for layer in layers:\n",
    "    if layer.startswith('c5'):\n",
    "        print(f\"正在处理图层: {layer}\")\n",
    "        gdf = gpd.read_file(merge_gdb, layer=layer)\n",
    "        filtered_gdf = gdf[desired_columns]\n",
    "        output_file = os.path.join(output_c_csv_dir, f\"{layer}.csv\")\n",
    "        filtered_gdf.to_csv(output_file, index=False)\n",
    "        print(f\"图层 {layer} 已保存为 {output_file}\")"
   ]
  },
  {
   "cell_type": "code",
   "execution_count": null,
   "metadata": {},
   "outputs": [],
   "source": [
    "# 定义湖泊面积的bins（区间）\n",
    "poww=range(-3,7)\n",
    "bins = [10**i for i in poww]\n",
    "print(bins)\n",
    "bin_labels = bins[1:]\n",
    "print(bin_labels)\n",
    "results = pd.DataFrame(columns=eight_continents)\n",
    "out_csv=os.path.join(output_c_csv_dir, f\"continent_area_distribution_10.csv\")\n",
    "for i in range(8):\n",
    "    continent = eight_continents[i]\n",
    "    region_file=os.path.join(output_c_csv_dir,f'c{i+1}_{continent}_lakes.csv')\n",
    "    df = pd.read_csv(region_file)\n",
    "    area_binned = pd.cut(df[desired_columns].squeeze(), bins=bins, labels=bin_labels, right=False)\n",
    "    area_sum_by_bin = df.groupby(area_binned)[desired_columns].sum()\n",
    "    results[continent] = area_sum_by_bin.reindex(bin_labels, fill_value=0)\n",
    "\n",
    "# 将结果保存为 CSV 文件\n",
    "results.to_csv(out_csv)"
   ]
  },
  {
   "cell_type": "code",
   "execution_count": null,
   "metadata": {},
   "outputs": [],
   "source": [
    "poww=range(-3,7)\n",
    "bins = [10**i for i in poww]\n",
    "print(bins)\n",
    "bin_labels = bins[1:]\n",
    "print(bin_labels)\n",
    "results = pd.DataFrame(columns=eight_continents)\n",
    "out_csv=os.path.join(output_c_csv_dir, f\"continent_count_distribution_10_2.csv\")\n",
    "for i in range(8):\n",
    "    continent = eight_continents[i]\n",
    "    region_file=os.path.join(output_c_csv_dir,f'c{i+1}_{continent}_lakes.csv')\n",
    "    df = pd.read_csv(region_file)\n",
    "    area_binned = pd.cut(df[desired_columns].squeeze(), bins=bins, labels=bin_labels, right=False)\n",
    "    area_sum_by_bin = df.groupby(area_binned)[desired_columns].count()\n",
    "    results[continent] = area_sum_by_bin.reindex(bin_labels, fill_value=0)\n",
    "\n",
    "# 将结果保存为 CSV 文件\n",
    "results.to_csv(out_csv)"
   ]
  },
  {
   "cell_type": "code",
   "execution_count": null,
   "metadata": {},
   "outputs": [],
   "source": [
    "region_file"
   ]
  },
  {
   "cell_type": "code",
   "execution_count": null,
   "metadata": {},
   "outputs": [],
   "source": [
    "savepic=os.path.join(fig_path,'3-1 total count of lakes across decadal area size.png')\n",
    "data_dir=r'D:\\lakemapping\\10_paper_writting\\figure'\n",
    "color_list=['#a51c36','#4485c7','#dbb428','#7abbdb','#84ba42','#d4562e','#682487']\n",
    "# 读取 Excel 文件中的两个 sheet\n",
    "file_path = os.path.join(data_dir,'dataset_distribution.xlsx')\n",
    "area_df = pd.read_excel(file_path, sheet_name='continent_area')\n",
    "quantity_df = pd.read_excel(file_path, sheet_name='continent_count')\n",
    "\n",
    "# 假设行是不同的尺寸，列是不同的系列\n",
    "# 获取行和列\n",
    "sizes = area_df.index  # 尺寸是索引\n",
    "series = area_df.columns  # 系列是列\n",
    "\n",
    "# 创建一个散点图\n",
    "fig, ax = plt.subplots(figsize=(6, 5))\n",
    "\n",
    "# fig=plt.figure(figsize=(6,4),dpi=300)#fig=plt.figure(figsize=(18,7.9))\n",
    "# gs = gridspec.GridSpec(2,2,width_ratios=[2,1],height_ratios=[1,1],wspace =0.2,hspace =0.01)\n",
    "# ax=plt.subplot(gs[:, 0])\n",
    "\n",
    "# 初始化两个图例\n",
    "series_legend = []\n",
    "size_legend = []\n",
    "\n",
    "i=0\n",
    "# 遍历每个系列，绘制散点图\n",
    "for series_name in series[1:]:\n",
    "    # 获取该系列的面积和数量数据\n",
    "    area = area_df[series_name]\n",
    "    quantity = quantity_df[series_name]\n",
    "    # 使用面积来控制散点的大小\n",
    "    scatter = ax.scatter(sizes, quantity, s= area/10**3, label=series_name,color=color_list[i],alpha=0.5)\n",
    "    # 图例：系列\n",
    "    series_legend.append(scatter)\n",
    "    i=i+1\n",
    "    \n",
    "area_size=[5000,25000,50000,100000,500000]\n",
    "area_size_label=[f'{area:,}' for area in area_size]\n",
    "for area in area_size:\n",
    "    marker_color = colors.to_rgba('gray', alpha=1)\n",
    "    size_legend.append(plt.Line2D([0], [0], marker='o', color='w', markerfacecolor=marker_color, markersize=math.sqrt(area/10**3)))\n",
    "\n",
    "# 设置图表标题和标签\n",
    "ax.set_xlabel('Logarithmic area size class (km$^2$)')\n",
    "ax.set_yscale('log')\n",
    "ax.set_ylabel('Count')\n",
    "ax.set_xticks(np.arange(0.5,8.5,1))\n",
    "ax.set_xticklabels(bins[1:-1],rotation=45) \n",
    "\n",
    "# 添加图例\n",
    "le=ax.legend(handles=size_legend, labels=area_size_label, title='Total area (km$^2$)', loc='upper right', fontsize=9, frameon=False)#,loc=(0.3, 0.02)\n",
    "ax.legend(handles=series_legend, title=None, loc='lower left', fontsize=9, frameon=False)\n",
    "plt.gca().add_artist(le)\n",
    "# 计算每个系列的总面积和总数量\n",
    "totals = pd.DataFrame({\n",
    "    'Total Area': area_df.sum(),\n",
    "    'Total Quantity': quantity_df.sum()\n",
    "})\n",
    "totals = totals.applymap(lambda x: f'{x:.0f}')\n",
    "table_data = totals.iloc[1:, :].reset_index()\n",
    "# 创建一个表格来显示这些信息\n",
    "table_data.columns = ['Region', 'Total area (km$^2$)', 'Total count']\n",
    "\n",
    "ax.spines['right'].set_visible(False)\n",
    "ax.spines['top'].set_visible(False)\n",
    "\n",
    "# area = area_df.sum()\n",
    "# quantity = quantity_df.sum()\n",
    "# ax_pie = plt.subplot(gs[0, 1])\n",
    "# ax_pie.pie(area[2:], labels=area[2:].index, colors=color_list[1:], autopct='%1.1f%%', startangle=140)\n",
    "# ax_pie.set_xlabel('Total region area')\n",
    "\n",
    "# 添加表格到图表中\n",
    "# ax.table(cellText=table_data.values, colLabels=table_data.columns, loc='top', cellLoc='right',fontsize=7, bbox=[0.5, 0.65, 0.5, 0.35])\n",
    "plt.savefig(savepic,dpi=400,bbox_inches='tight')#,dpi=400\n",
    "# 显示图表\n",
    "plt.show()\n"
   ]
  },
  {
   "cell_type": "code",
   "execution_count": null,
   "metadata": {},
   "outputs": [],
   "source": [
    "area = area_df.sum()\n",
    "quantity = quantity_df.sum()\n",
    "area[2:]\n",
    "fig, ax_pie = plt.subplots(figsize=(6, 5))\n",
    "ax_pie.pie(area[2:], labels=area[2:].index, colors=color_list[1:], autopct='%1.1f%%', startangle=140)\n",
    "ax_pie.set_xlabel('Total region area')"
   ]
  },
  {
   "cell_type": "code",
   "execution_count": null,
   "metadata": {},
   "outputs": [],
   "source": [
    "quantity = quantity_df.sum()\n",
    "quantity"
   ]
  },
  {
   "cell_type": "code",
   "execution_count": null,
   "metadata": {},
   "outputs": [],
   "source": [
    "fig, ax_pie = plt.subplots(figsize=(6, 5))\n",
    "ax_pie.pie(quantity[2:], labels=quantity[2:].index, colors=color_list[1:], autopct='%1.1f%%', startangle=140)\n",
    "ax_pie.set_xlabel('Total region count')"
   ]
  },
  {
   "cell_type": "code",
   "execution_count": null,
   "metadata": {},
   "outputs": [],
   "source": [
    "savepic=os.path.join(fig_path,'3-1 legend.png')\n",
    "fig, ax = plt.subplots(figsize=(6, 5))\n",
    "series_legend = []\n",
    "i=0\n",
    "for series_name in series[1:]:\n",
    "    # 获取该系列的面积和数量数据\n",
    "    area = area_df[series_name]\n",
    "    quantity = quantity_df[series_name]\n",
    "    \n",
    "    # 使用面积来控制散点的大小\n",
    "    scatter = ax.scatter(sizes, quantity, s=100, label=series_name,color=color_list[i], alpha=0.5)\n",
    "    # 图例：系列\n",
    "    series_legend.append(scatter)\n",
    "    i=i+1\n",
    "ax.legend(handles=series_legend, title=None, loc='upper right', fontsize=9, frameon=False)\n",
    "plt.savefig(savepic,dpi=400,bbox_inches='tight')#,dpi=400"
   ]
  },
  {
   "cell_type": "code",
   "execution_count": null,
   "metadata": {},
   "outputs": [],
   "source": []
  }
 ],
 "metadata": {
  "kernelspec": {
   "display_name": "ese5023",
   "language": "python",
   "name": "ese5023"
  },
  "language_info": {
   "codemirror_mode": {
    "name": "ipython",
    "version": 3
   },
   "file_extension": ".py",
   "mimetype": "text/x-python",
   "name": "python",
   "nbconvert_exporter": "python",
   "pygments_lexer": "ipython3",
   "version": "3.8.18"
  }
 },
 "nbformat": 4,
 "nbformat_minor": 4
}
