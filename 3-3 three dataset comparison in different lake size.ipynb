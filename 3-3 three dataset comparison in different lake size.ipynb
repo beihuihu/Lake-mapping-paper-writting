{
 "cells": [
  {
   "cell_type": "code",
   "execution_count": null,
   "metadata": {},
   "outputs": [],
   "source": [
    "import pandas as pd\n",
    "import numpy as np\n",
    "import os\n",
    "import geopandas as gpd\n",
    "import fiona\n",
    "import math\n",
    "from matplotlib import colors\n",
    "import matplotlib.ticker as ticker\n",
    "import matplotlib.pyplot as plt\n",
    "import matplotlib.gridspec as gridspec"
   ]
  },
  {
   "cell_type": "code",
   "execution_count": null,
   "metadata": {},
   "outputs": [],
   "source": [
    "version='v16_250104'\n",
    "output_dir = os.path.join(r'J:\\lakemapping\\postprocess',version)\n",
    "auxiliary_dataset_gdb=r'J:\\lakemapping\\auxiliary_dataset.gdb'\n",
    "merge_gdb=os.path.join(output_dir,f'5_polygon_afm_mergeWith_GLAKES_PLD.gdb')\n",
    "output_c_csv_dir=os.path.join(output_dir,f'5_GLAKES_plus_csv')\n",
    "os.makedirs(output_c_csv_dir,exist_ok=True)\n",
    "# eight_continents=['Asia','Siberia','Africa','Europe','Oceania_Anta','North_America','Arctic','South_America']\n",
    "eight_continents=['Asia','Siberia','Africa','Europe','Oceania','North_America','Arctic','South_America']\n",
    "fig_path=r'D:\\lakemapping\\10_paper_writting\\figure\\v5_250213'"
   ]
  },
  {
   "cell_type": "code",
   "execution_count": null,
   "metadata": {},
   "outputs": [],
   "source": [
    "plt.rcParams['axes.unicode_minus']=False#负号\n",
    "plt.rcParams['font.sans-serif']=['Arial']###############\n",
    "plt.rcParams['font.size'] = '7' # 设置字体大小 = '16' # 设置字体大小\n",
    "# plt.rcParams[\"font.weight\"] = \"bold\"\n",
    "# plt.rcParams[\"axes.labelweight\"] = \"bold\"\n",
    "plt.rcParams['xtick.direction'] = 'out'#将x周的刻度线方向设置向内\n",
    "plt.rcParams['ytick.direction'] = 'inout'#将y轴的刻度方向设置向内"
   ]
  },
  {
   "cell_type": "code",
   "execution_count": null,
   "metadata": {},
   "outputs": [],
   "source": [
    "GLAKES_afm_dir=r'D:\\lakemapping\\0_auxiliary_data\\GLAKES\\GLAKES_after_30p_land_mask.gdb'\n",
    "layers = fiona.listlayers(GLAKES_afm_dir)\n",
    "desired_columns = ['Area_bound'] \n",
    "print(layers)"
   ]
  },
  {
   "cell_type": "code",
   "execution_count": null,
   "metadata": {},
   "outputs": [],
   "source": [
    "output_csv_dir=r'D:\\lakemapping\\0_auxiliary_data\\GLAKES\\GLAKES_after_floodplain_mask_stastics'\n",
    "layer_name=['au1_GLAKES_niwSHIFT','au2_GLAKES_iwSHIFT_after_mask_gt3ha_keep_arid']\n",
    "# for layer in layers:\n",
    "#     if layer ==layer_name[0]:\n",
    "#         print(f\"正在处理图层: {layer}\")\n",
    "#         gdf = gpd.read_file(GLAKES_afm_dir, layer=layer)\n",
    "#         filtered_gdf = gdf[desired_columns]\n",
    "#         output_file = os.path.join(output_csv_dir, f\"{layer}.csv\")\n",
    "#         filtered_gdf.to_csv(output_file, index=False)\n",
    "#         print(f\"图层 {layer} 已保存为 {output_file}\")\n",
    "        \n",
    "# 定义湖泊面积的bins（区间）\n",
    "poww=range(-2,7)\n",
    "bins = [10**i for i in poww]\n",
    "print(bins)\n",
    "bin_labels = bins[1:]\n",
    "print(bin_labels)\n",
    "results = pd.DataFrame(columns=layer_name)\n",
    "out_csv=os.path.join(output_csv_dir, f\"GLAKES_afm_count.csv\")\n",
    "for file in layer_name:\n",
    "    file_dir=os.path.join(output_csv_dir,file+'.csv')\n",
    "    df = pd.read_csv(file_dir)\n",
    "    area_binned = pd.cut(df[desired_columns].squeeze(), bins=bins, labels=bin_labels, right=False)\n",
    "#     area_sum_by_bin = df.groupby(area_binned)[desired_columns].sum()\n",
    "    area_sum_by_bin = df.groupby(area_binned)[desired_columns].count()\n",
    "    results[file] = area_sum_by_bin.reindex(bin_labels, fill_value=0)\n",
    "\n",
    "# 将结果保存为 CSV 文件\n",
    "results.to_csv(out_csv)\n"
   ]
  },
  {
   "cell_type": "code",
   "execution_count": null,
   "metadata": {},
   "outputs": [],
   "source": [
    "savepic=os.path.join(fig_path,'3-1 count and total area of lakes across decadal area size.png')\n",
    "data_dir=r'D:\\lakemapping\\10_paper_writting\\figure'\n",
    "color_list=['#a51c36','#4485c7','#dbb428','#7abbdb','#84ba42','#d4562e','#682487']\n",
    "# 读取 Excel 文件中的两个 sheet\n",
    "file_path = os.path.join(data_dir,'dataset_distribution.xlsx')\n",
    "world_df = pd.read_excel(file_path, sheet_name='three_dataset_comparison')\n",
    "bins = [0.005]\n",
    "for i in [-2,0,2,4,6]:\n",
    "    bins.append(10**i)\n",
    "\n",
    "fig=plt.figure(figsize=(6,2.5),dpi=300)#fig=plt.figure(figsize=(18,7.9))\n",
    "gs = gridspec.GridSpec(1,2,width_ratios=[1,1],wspace =0.35,hspace =0.01)\n",
    "bar_height=0.3\n",
    "ax=plt.subplot(gs[0, 0])\n",
    "bars=ax.barh(np.arange(0.8,5.8,1),world_df['GLAKESplus_count'],bar_height,label='GLAKESplus',color='#719AAC')\n",
    "# bars_G=ax.barh(np.arange(1.275,9.275,1),GLAKES_afm_df['Count'],bar_height,label='GLAKES_after_flood_mask',color='#719AAC')\n",
    "bars_P=ax.barh(np.arange(0.5,5.5,1),world_df['PLD_count'],bar_height,label='PLD',color='#B8DBB3')\n",
    "bars_G=ax.barh(np.arange(0.2,5.2,1),world_df['GLAKES_count'],bar_height,label='GLAKES',color='#94C6CD')\n",
    "# 设置图表标题和标签\n",
    "ax.set_xlabel('Count')\n",
    "ax.set_xlim(5,10000000)\n",
    "ax.set_xscale('log',base=10,subs=range(1,8))\n",
    "ax.set_ylim(0.6,5)\n",
    "ax.set_ylabel('Logarithmic area size class (km$^2$)')\n",
    "ax.set_yticks([0.6,1,2,3,4,5])\n",
    "ax.set_yticklabels(bins) \n",
    "ax.text(0.05,4.8,'a',fontsize=12)\n",
    "ax.spines['right'].set_visible(False)\n",
    "ax.spines['top'].set_visible(False)\n",
    "ax.legend(ncols=1,frameon=False)\n",
    "\n",
    "for bar in bars:\n",
    "    width=bar.get_width()\n",
    "    ax.text(width*0.8,bar.get_y() + bar.get_height() / 2,  f'{int(width):,}',ha='right',va='center',color='w')#width*0.85,\n",
    "for bar in bars_P[1:]:\n",
    "    width=bar.get_width()\n",
    "    ax.text(width*0.8,bar.get_y() + bar.get_height() / 2,  f'{int(width):,}',ha='right',va='center',color='k')\n",
    "for bar in bars_G[1:]:\n",
    "    width=bar.get_width()\n",
    "    ax.text(width*0.8,bar.get_y() + bar.get_height() / 2,  f'{int(width):,}',ha='right',va='center',color='k')\n",
    "    \n",
    "ax=plt.subplot(gs[0, 1])\n",
    "bars=ax.barh(np.arange(0.8,5.8,1),world_df['GLAKESplus_area'],bar_height,label='GLAKES_plus',color='#719AAC')\n",
    "# bars_G=ax.barh(np.arange(1.275,9.275,1),GLAKES_afm_df['Count'],bar_height,label='GLAKES_after_flood_mask',color='#719AAC')\n",
    "bars_P=ax.barh(np.arange(0.5,5.5,1),world_df['PLD_area'],bar_height,label='PLD',color='#B8DBB3')\n",
    "bars_G=ax.barh(np.arange(0.2,5.2,1),world_df['GLAKES_area'],bar_height,label='GLAKES',color='#94C6CD')\n",
    "\n",
    "# 设置图表标题和标签\n",
    "ax.set_xlabel('Total area')\n",
    "ax.set_xscale('log',base=10,subs=range(0,7))\n",
    "ax.set_xlim(8000,1000000)\n",
    "ax.set_ylim(0.6,5)\n",
    "ax.set_ylabel('Logarithmic area size class (km$^2$)')\n",
    "ax.set_yticks([0.6,1,2,3,4,5])\n",
    "ax.set_yticklabels(bins) \n",
    "ax.spines['right'].set_visible(False)\n",
    "ax.spines['top'].set_visible(False)\n",
    "ax.text(1700,4.8,'b',fontsize=12)\n",
    "# ax.legend(ncols=1,frameon=False)\n",
    "# poww=range(-3,7)\n",
    "# bins = [10**i for i in poww]\n",
    "# ax.set_yticklabels(bins[1:-1]) \n",
    "for bar in bars:\n",
    "    width=bar.get_width()\n",
    "    ax.text(width*0.85,bar.get_y() + bar.get_height() / 2,  f'{width:,.1f}',ha='right',va='center',color='w')\n",
    "for bar in bars_P[1:]:\n",
    "    width=bar.get_width()\n",
    "    ax.text(width*0.85,bar.get_y() + bar.get_height() / 2,  f'{width:,.1f}',ha='right',va='center',color='k')\n",
    "for bar in bars_G[1:]:\n",
    "    width=bar.get_width()\n",
    "    ax.text(width*0.85,bar.get_y() + bar.get_height() / 2,  f'{width:,.1f}',ha='right',va='center',color='k')\n",
    "    \n",
    "plt.savefig(savepic,dpi=400,bbox_inches='tight')#,dpi=400\n",
    "# 显示图表\n",
    "plt.show()\n"
   ]
  },
  {
   "cell_type": "code",
   "execution_count": null,
   "metadata": {},
   "outputs": [],
   "source": [
    "world_df"
   ]
  },
  {
   "cell_type": "code",
   "execution_count": null,
   "metadata": {},
   "outputs": [],
   "source": [
    "bins"
   ]
  },
  {
   "cell_type": "code",
   "execution_count": null,
   "metadata": {},
   "outputs": [],
   "source": []
  }
 ],
 "metadata": {
  "kernelspec": {
   "display_name": "ese5023",
   "language": "python",
   "name": "ese5023"
  },
  "language_info": {
   "codemirror_mode": {
    "name": "ipython",
    "version": 3
   },
   "file_extension": ".py",
   "mimetype": "text/x-python",
   "name": "python",
   "nbconvert_exporter": "python",
   "pygments_lexer": "ipython3",
   "version": "3.8.18"
  }
 },
 "nbformat": 4,
 "nbformat_minor": 4
}
